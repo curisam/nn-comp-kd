{
 "cells": [
  {
   "cell_type": "code",
   "execution_count": null,
   "metadata": {},
   "outputs": [],
   "source": [
    "import os\n",
    "import torch\n",
    "import torch.nn.functional as F\n",
    "import numpy as np\n",
    "import pandas as pd\n",
    "import matplotlib\n",
    "import matplotlib.pyplot as plt\n",
    "from tqdm import tqdm\n",
    "\n",
    "from tools.data_setter import cifar_100_setter\n",
    "from models import cifar, imagenet"
   ]
  },
  {
   "cell_type": "markdown",
   "metadata": {},
   "source": [
    "---"
   ]
  },
  {
   "cell_type": "markdown",
   "metadata": {},
   "source": [
    "# Accuracy"
   ]
  },
  {
   "cell_type": "code",
   "execution_count": null,
   "metadata": {},
   "outputs": [],
   "source": [
    "dirname = os.getcwd()\n",
    "dataset = 'cifar10'\n",
    "teacher = 'wrn-28-4'\n",
    "student = 'wrn-16-2'\n",
    "\n",
    "result_dirname = os.path.join(dirname, 'results', dataset, teacher, student)\n",
    "\n",
    "t_list = [\"1.0\", \"3.0\", \"5.0\", \"20.0\", \"inf\"]\n",
    "alpha_list = [\"0.1\", \"0.2\", \"0.3\", \"0.4\", \"0.5\", \"0.6\", \"0.7\", \"0.8\", \"0.9\", \"1.0\"]\n",
    "accuracy_list = np.zeros([len(t_list), len(alpha_list)])\n",
    "\n",
    "t_list = [\"20.0\"]\n",
    "alpha_list = [\"1.0\"]\n",
    "\n",
    "for t_enum, t in enumerate(t_list):\n",
    "    for alpha_enum, alpha in enumerate(alpha_list):\n",
    "        accuracy = []\n",
    "        current_dirname = os.path.join(result_dirname, 'alp_{}_T_{}'.format(alpha, t))\n",
    "        current_files = os.listdir(current_dirname)\n",
    "        \n",
    "        current_files = [f for f in current_files if 'csv' in f]\n",
    "        for file in current_files:\n",
    "            accuracy.append(max(list(pd.read_csv(os.path.join(current_dirname, file))['train_accuracy'])))\n",
    "    accuracy_list[t_enum, alpha_enum] = np.mean(accuracy)"
   ]
  },
  {
   "cell_type": "code",
   "execution_count": null,
   "metadata": {},
   "outputs": [],
   "source": [
    "matplotlib.rcParams.update({'font.size': 20})\n",
    "\n",
    "plt.figure(figsize=(10, 4))\n",
    "plt.pcolor(accuracy_list, cmap=plt.get_cmap('Blues'))\n",
    "plt.xticks(np.arange(0.5, len(alpha_list), 1), alpha_list)\n",
    "plt.yticks(np.arange(0.5, len(t_list), 1), t_list)\n",
    "plt.xlabel('Alpha')\n",
    "plt.ylabel('Temperature')\n",
    "\n",
    "plt.colorbar()\n",
    "plt.show()\n",
    "plt.subplots_adjust(wspace=0.5)\n",
    "# plt.savefig('train_accuracy.pdf', bbox_inches='tight', format='pdf')\n",
    "plt.close()"
   ]
  },
  {
   "cell_type": "markdown",
   "metadata": {},
   "source": [
    "---"
   ]
  }
 ],
 "metadata": {
  "kernelspec": {
   "display_name": "Python 3",
   "language": "python",
   "name": "python3"
  },
  "language_info": {
   "codemirror_mode": {
    "name": "ipython",
    "version": 3
   },
   "file_extension": ".py",
   "mimetype": "text/x-python",
   "name": "python",
   "nbconvert_exporter": "python",
   "pygments_lexer": "ipython3",
   "version": "3.7.3"
  }
 },
 "nbformat": 4,
 "nbformat_minor": 4
}
